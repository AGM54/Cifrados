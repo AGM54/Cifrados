{
 "cells": [
  {
   "cell_type": "markdown",
   "metadata": {},
   "source": [
    "1. Implementar una función para convertir una cadena de caracteres a bits. Por cada\n",
    "carácter de la cadena encontrar la represencación en bytes (8 bits) del valor ASCII de\n",
    "dicho carácter. La función debe de devolver la concatenación de todos los bits de la\n",
    "cadena.\n",
    "a. Muestre 2 ejemplos sencillos de convertir cadenas a bytes"
   ]
  },
  {
   "cell_type": "code",
   "execution_count": 9,
   "metadata": {},
   "outputs": [
    {
     "name": "stdout",
     "output_type": "stream",
     "text": [
      "Ejemplos de conversión de texto a bits:\n",
      "Cifrados -> 0100001101101001011001100111001001100001011001000110111101110011\n",
      "Textos -> 010101000110010101111000011101000110111101110011\n"
     ]
    }
   ],
   "source": [
    "def string_to_bits(texto):\n",
    "    \"\"\"Convierte una cadena de caracteres a su representación en bits.\"\"\"\n",
    "    return ''.join(format(ord(c), '08b') for c in texto)\n",
    "\n",
    "# Ejemplos solicitados\n",
    "texto1 = \"Cifrados\"\n",
    "texto2 = \"Textos\"\n",
    "\n",
    "print(\"Ejemplos de conversión de texto a bits:\")\n",
    "print(f\"{texto1} -> {string_to_bits(texto1)}\")\n",
    "print(f\"{texto2} -> {string_to_bits(texto2)}\")\n"
   ]
  },
  {
   "cell_type": "markdown",
   "metadata": {},
   "source": [
    "2. Implementar una función para convertir una cadena de bytes a caracteres. Por cada\n",
    "grupo de 8 bits encontrar su representante correspondiente en ASCII. La función debe\n",
    "de devolver el texto correspondiente.\n",
    "a. Muestre 2 ejemplos sencillos de convertir bytes a cadena"
   ]
  },
  {
   "cell_type": "code",
   "execution_count": 16,
   "metadata": {},
   "outputs": [
    {
     "name": "stdout",
     "output_type": "stream",
     "text": [
      "Ejemplos de conversión de bits a texto:\n",
      "011000010110110001100111011011110111001001101001011101000110110101101111 -> algoritmo\n",
      "01100011011010010110011001110010011000010110010001101111 -> cifrado\n"
     ]
    }
   ],
   "source": [
    "def bits_to_string(bits):\n",
    "    \"\"\"Convierte una secuencia de bits (en grupos de 8) a su representación en texto ASCII.\"\"\"\n",
    "    caracteres = [bits[i:i+8] for i in range(0, len(bits), 8)]  \n",
    "    return ''.join(chr(int(byte, 2)) for byte in caracteres)  \n",
    "\n",
    "\n",
    "bits1 = \"011000010110110001100111011011110111001001101001011101000110110101101111\"  # \"algoritmo\"\n",
    "bits2 = \"01100011011010010110011001110010011000010110010001101111\"  # \"cifrado\"\n",
    "\n",
    "print(\"Ejemplos de conversión de bits a texto:\")\n",
    "print(f\"{bits1} -> {bits_to_string(bits1)}\")\n",
    "print(f\"{bits2} -> {bits_to_string(bits2)}\")\n"
   ]
  },
  {
   "cell_type": "markdown",
   "metadata": {},
   "source": [
    "3. Implementar una función para convertir una cadena de bytes a caracteres. Por cada\n",
    "grupo de 8 bits encontrar su representante correspondiente en ASCII. La función debe\n",
    "de devolver el texto correspondiente.\n",
    "a. Muestre 2 ejemplos sencillos de convertir bytes a cadena"
   ]
  },
  {
   "cell_type": "code",
   "execution_count": 17,
   "metadata": {},
   "outputs": [
    {
     "name": "stdout",
     "output_type": "stream",
     "text": [
      "Ejemplos de conversión de bits a texto:\n",
      "0100100001100101011011000110110001101111 -> Hello\n",
      "01110100011001010111001101110100 -> test\n"
     ]
    }
   ],
   "source": [
    "def bits_to_string(bits):\n",
    "    \"\"\"Convierte una secuencia de bits (en grupos de 8) a su representación en texto ASCII.\"\"\"\n",
    "    if len(bits) % 8 != 0:\n",
    "        raise ValueError(\"La cadena de bits no tiene una longitud múltiplo de 8.\")\n",
    "    \n",
    "    caracteres = [bits[i:i+8] for i in range(0, len(bits), 8)]  \n",
    "    return ''.join(chr(int(byte, 2)) for byte in caracteres)  # Convierte cada byte a su carácter ASCII\n",
    "\n",
    "# Ejemplos solicitados\n",
    "bits1 = \"0100100001100101011011000110110001101111\"  # \"Hello\"\n",
    "bits2 = \"01110100011001010111001101110100\"  # \"test\"\n",
    "\n",
    "print(\"Ejemplos de conversión de bits a texto:\")\n",
    "print(f\"{bits1} -> {bits_to_string(bits1)}\")\n",
    "print(f\"{bits2} -> {bits_to_string(bits2)}\")\n"
   ]
  },
  {
   "cell_type": "markdown",
   "metadata": {},
   "source": [
    "4. Implementar funciones que permitan convertir una cadena de base 64 a su texto\n",
    "correspondiente para esto utilizar la conversión manual (texto UNICODE a binario ,\n",
    "binario a Codigos ASCII).\n",
    "a. Mostrar 2 ejemplos sencillos de convertir una cadena de base64 a su texto\n",
    "correspondiente"
   ]
  },
  {
   "cell_type": "code",
   "execution_count": 18,
   "metadata": {},
   "outputs": [
    {
     "name": "stdout",
     "output_type": "stream",
     "text": [
      "Ejemplos de conversión de Base64 a texto:\n",
      "SGVsbG8= -> Hello\n",
      "VGVzdA== -> Test\n"
     ]
    }
   ],
   "source": [
    "import re\n",
    "\n",
    "def base64_to_bits(base64_string):\n",
    "    \"\"\"Convierte una cadena en Base64 a su representación en bits.\"\"\"\n",
    "    base64_chars = \"ABCDEFGHIJKLMNOPQRSTUVWXYZabcdefghijklmnopqrstuvwxyz0123456789+/\"\n",
    "    \n",
    "\n",
    "    padding = base64_string.count('=')\n",
    "    base64_string = re.sub('=+$', '', base64_string)  \n",
    "    binary_string = ''.join(format(base64_chars.index(c), '06b') for c in base64_string)\n",
    "\n",
    "    if padding:\n",
    "        binary_string = binary_string[:-(padding * 2)]\n",
    "    \n",
    "    return binary_string\n",
    "\n",
    "def bits_to_string(bits):\n",
    "    caracteres = [bits[i:i+8] for i in range(0, len(bits), 8)] \n",
    "    return ''.join(chr(int(byte, 2)) for byte in caracteres) \n",
    "\n",
    "def base64_to_text(base64_string):\n",
    "    binary_string = base64_to_bits(base64_string) \n",
    "    return bits_to_string(binary_string)  \n",
    "\n",
    "\n",
    "\n",
    "base64_1 = \"SGVsbG8=\"  \n",
    "base64_2 = \"VGVzdA==\" \n",
    "\n",
    "print(\"Ejemplos de conversión de Base64 a texto:\")\n",
    "print(f\"{base64_1} -> {base64_to_text(base64_1)}\")\n",
    "print(f\"{base64_2} -> {base64_to_text(base64_2)}\")\n"
   ]
  }
 ],
 "metadata": {
  "kernelspec": {
   "display_name": "Python 3",
   "language": "python",
   "name": "python3"
  },
  "language_info": {
   "codemirror_mode": {
    "name": "ipython",
    "version": 3
   },
   "file_extension": ".py",
   "mimetype": "text/x-python",
   "name": "python",
   "nbconvert_exporter": "python",
   "pygments_lexer": "ipython3",
   "version": "3.10.11"
  }
 },
 "nbformat": 4,
 "nbformat_minor": 2
}
